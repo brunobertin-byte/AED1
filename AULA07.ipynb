{
  "nbformat": 4,
  "nbformat_minor": 0,
  "metadata": {
    "colab": {
      "provenance": [],
      "authorship_tag": "ABX9TyNgmwBG7dqC088zTr3DlaVE",
      "include_colab_link": true
    },
    "kernelspec": {
      "name": "python3",
      "display_name": "Python 3"
    },
    "language_info": {
      "name": "python"
    }
  },
  "cells": [
    {
      "cell_type": "markdown",
      "metadata": {
        "id": "view-in-github",
        "colab_type": "text"
      },
      "source": [
        "<a href=\"https://colab.research.google.com/github/brunobertin-byte/AED1/blob/main/AULA07.ipynb\" target=\"_parent\"><img src=\"https://colab.research.google.com/assets/colab-badge.svg\" alt=\"Open In Colab\"/></a>"
      ]
    },
    {
      "cell_type": "code",
      "source": [
        "soma = 0\n",
        "for i in range(1,6):\n",
        "   idade = int(input(f\"Entre com a idade {i} :\"))\n",
        "   soma = soma + idade\n",
        "media = soma/5\n",
        "print(\"A media das idades é: \", media)"
      ],
      "metadata": {
        "colab": {
          "base_uri": "https://localhost:8080/"
        },
        "id": "TOxb7jzVtUZQ",
        "outputId": "6b86fc60-6b68-42b0-de10-ddc7310af4c9"
      },
      "execution_count": 8,
      "outputs": [
        {
          "output_type": "stream",
          "name": "stdout",
          "text": [
            "Entre com a idade 1 :16\n",
            "Entre com a idade 2 :1\n",
            "Entre com a idade 3 :2\n",
            "Entre com a idade 4 :4\n",
            "Entre com a idade 5 :5\n",
            "A media das idades é:  5.6\n"
          ]
        }
      ]
    },
    {
      "cell_type": "code",
      "source": [
        "# contagem regressiva de 10 a 1\n",
        "for i in range (10,0,-1):\n",
        "  print(i)\n"
      ],
      "metadata": {
        "colab": {
          "base_uri": "https://localhost:8080/"
        },
        "id": "Ff3E8UH8vdIp",
        "outputId": "8c4842a1-f071-47ec-dde7-54103a3d8f9c"
      },
      "execution_count": 27,
      "outputs": [
        {
          "output_type": "stream",
          "name": "stdout",
          "text": [
            "10\n",
            "9\n",
            "8\n",
            "7\n",
            "6\n",
            "5\n",
            "4\n",
            "3\n",
            "2\n",
            "1\n"
          ]
        }
      ]
    },
    {
      "cell_type": "code",
      "source": [
        "n = int(input(\"Digite com o valor de N: \"))\n",
        "fat = 1\n",
        "if n < 0:\n",
        "  print(\"fatorial não existe!\")\n",
        "elif n == 0:\n",
        "  print(\"fatorial de 0 é igual a 1\")\n",
        "else:\n",
        "  for i in range(1, n+1):\n",
        "     fat = fat * i\n",
        "print(\"o fatorial de \", n, \"é igual a\", fat)\n",
        "\n",
        "\n"
      ],
      "metadata": {
        "colab": {
          "base_uri": "https://localhost:8080/"
        },
        "id": "CbYO5eI1wNrj",
        "outputId": "c553a4ac-82c1-4fe3-9c9d-f7ec43a905a1"
      },
      "execution_count": 41,
      "outputs": [
        {
          "output_type": "stream",
          "name": "stdout",
          "text": [
            "Digite com o valor de N: 2\n",
            "o fatorial de  2 é igual a 2\n"
          ]
        }
      ]
    },
    {
      "cell_type": "code",
      "source": [
        "# tabuada do 8\n",
        "i = 1\n",
        "while i <11:\n",
        "  print(i, \"x 8 = \" , i*8)\n",
        "  i=i+1\n"
      ],
      "metadata": {
        "colab": {
          "base_uri": "https://localhost:8080/"
        },
        "id": "bISbuFe91fWD",
        "outputId": "219a2094-0a24-4f9d-b64c-6dc472956e52"
      },
      "execution_count": 53,
      "outputs": [
        {
          "output_type": "stream",
          "name": "stdout",
          "text": [
            "1 x 8 =  8\n",
            "2 x 8 =  16\n",
            "3 x 8 =  24\n",
            "4 x 8 =  32\n",
            "5 x 8 =  40\n",
            "6 x 8 =  48\n",
            "7 x 8 =  56\n",
            "8 x 8 =  64\n",
            "9 x 8 =  72\n",
            "10 x 8 =  80\n"
          ]
        }
      ]
    },
    {
      "cell_type": "code",
      "source": [
        "# tabuada do 9\n",
        "i = 1\n",
        "while i<11:\n",
        "  print(i, \"x 9 =\", i*9)\n",
        "  i=i+1"
      ],
      "metadata": {
        "colab": {
          "base_uri": "https://localhost:8080/"
        },
        "id": "Tvx5T0DA5J2A",
        "outputId": "6b0f881b-d4d2-4409-907c-119e138a4377"
      },
      "execution_count": 54,
      "outputs": [
        {
          "output_type": "stream",
          "name": "stdout",
          "text": [
            "1 x 9 = 9\n",
            "2 x 9 = 18\n",
            "3 x 9 = 27\n",
            "4 x 9 = 36\n",
            "5 x 9 = 45\n",
            "6 x 9 = 54\n",
            "7 x 9 = 63\n",
            "8 x 9 = 72\n",
            "9 x 9 = 81\n",
            "10 x 9 = 90\n"
          ]
        }
      ]
    },
    {
      "cell_type": "code",
      "source": [
        "# tabuada do 10\n",
        "i = 1\n",
        "while i<11:\n",
        "  print(i, \"x 10=\" , i*10)\n",
        "  i=i+1\n",
        "\n"
      ],
      "metadata": {
        "colab": {
          "base_uri": "https://localhost:8080/"
        },
        "id": "sAlLRDKM5tcZ",
        "outputId": "e6f9aa0f-a485-4841-bf80-e527ba1f15c3"
      },
      "execution_count": 56,
      "outputs": [
        {
          "output_type": "stream",
          "name": "stdout",
          "text": [
            "1 x 10= 10\n",
            "2 x 10= 20\n",
            "3 x 10= 30\n",
            "4 x 10= 40\n",
            "5 x 10= 50\n",
            "6 x 10= 60\n",
            "7 x 10= 70\n",
            "8 x 10= 80\n",
            "9 x 10= 90\n",
            "10 x 10= 100\n"
          ]
        }
      ]
    },
    {
      "cell_type": "code",
      "source": [
        "# tabuada\n",
        "n = int(input(\"Digite o numero: \"))\n",
        "i = 1\n",
        "while i < 11:\n",
        "  print(i, \"x\", n, \"=\" , i*n)\n",
        "  i = i + 1"
      ],
      "metadata": {
        "colab": {
          "base_uri": "https://localhost:8080/"
        },
        "id": "b_tIrcT06CXl",
        "outputId": "e3a272dc-1033-4d3b-8ac9-3a39809fb33a"
      },
      "execution_count": 60,
      "outputs": [
        {
          "output_type": "stream",
          "name": "stdout",
          "text": [
            "Digite o numero: 3\n",
            "1 x 3 = 3\n",
            "2 x 3 = 6\n",
            "3 x 3 = 9\n",
            "4 x 3 = 12\n",
            "5 x 3 = 15\n",
            "6 x 3 = 18\n",
            "7 x 3 = 21\n",
            "8 x 3 = 24\n",
            "9 x 3 = 27\n",
            "10 x 3 = 30\n"
          ]
        }
      ]
    },
    {
      "cell_type": "code",
      "source": [
        "soma = 0\n",
        "qtd = 0\n",
        "numero = 0\n",
        "while numero != -1:\n",
        "  numero = int(input(\"digite o valor <-1 para sair>:\"))\n",
        "  if (numero != -1):\n",
        "    soma = soma + numero\n",
        "    qtd = qtd+1\n",
        "media = soma / qtd\n",
        "print(\"A media dos numeros é: \", media)"
      ],
      "metadata": {
        "colab": {
          "base_uri": "https://localhost:8080/"
        },
        "id": "kYLwpA0oAIli",
        "outputId": "be4572cc-a163-4b1a-e9fe-90b66e2b08b6"
      },
      "execution_count": 110,
      "outputs": [
        {
          "output_type": "stream",
          "name": "stdout",
          "text": [
            "digite o valor <-1 para sair>:5\n",
            "digite o valor <-1 para sair>:6\n",
            "digite o valor <-1 para sair>:7\n",
            "digite o valor <-1 para sair>:8\n",
            "digite o valor <-1 para sair>:9\n",
            "digite o valor <-1 para sair>:8\n",
            "digite o valor <-1 para sair>:7\n",
            "digite o valor <-1 para sair>:-1\n",
            "A media dos numeros é:  7.142857142857143\n"
          ]
        }
      ]
    },
    {
      "cell_type": "code",
      "source": [
        "n=0\n",
        "while True:\n",
        "   n = n + 1\n",
        "   if (n%2)== 0:\n",
        "    continue\n",
        "   print(\"O ultimo valor de n é \", n)\n",
        "\n",
        "   if n>9:\n",
        "      break"
      ],
      "metadata": {
        "colab": {
          "base_uri": "https://localhost:8080/"
        },
        "id": "3t7Yuc9GC3BO",
        "outputId": "aa69ea8e-6963-48fd-f3c1-5644f6038c7a"
      },
      "execution_count": 109,
      "outputs": [
        {
          "output_type": "stream",
          "name": "stdout",
          "text": [
            "O ultimo valor de n é  1\n",
            "O ultimo valor de n é  3\n",
            "O ultimo valor de n é  5\n",
            "O ultimo valor de n é  7\n",
            "O ultimo valor de n é  9\n",
            "O ultimo valor de n é  11\n"
          ]
        }
      ]
    },
    {
      "cell_type": "code",
      "source": [
        "# Versão com FOR\n",
        "maior_imc = 0\n",
        "menor_imc = 100\n",
        "soma_a = 0\n",
        "soma_p = 0\n",
        "for i in range(1, 6):\n",
        "    peso = float(input(\"Digite o peso (kg): \"))\n",
        "    soma_p = soma_p + peso\n",
        "    altura = float(input(\"Digite a altura (m): \"))\n",
        "    soma_a = soma_a + altura\n",
        "    imc = peso / (altura ** 2)\n",
        "    if imc < menor_imc:\n",
        "      menor_imc = imc\n",
        "    if imc > maior_imc:\n",
        "      maior_imc = imc\n",
        "    print(\"imc = :\", imc)\n",
        "media_a = soma_a / 5\n",
        "media_p = soma_p / 5\n",
        "print(\"A média das alturas é: \", media_a)\n",
        "print(\"A média dos pesos é: \", media_p)\n",
        "print(\"O maior IMC é: \", maior_imc)\n",
        "print(\"O menor IMC é: \", menor_imc)\n",
        "\n",
        "\n",
        "\n",
        ""
      ],
      "metadata": {
        "colab": {
          "base_uri": "https://localhost:8080/"
        },
        "id": "FqX01-wNFcxL",
        "outputId": "4779fcff-a54b-4229-fdcf-493a5385a489"
      },
      "execution_count": 119,
      "outputs": [
        {
          "output_type": "stream",
          "name": "stdout",
          "text": [
            "Digite o peso (kg): 76\n",
            "Digite a altura (m): 1.87\n",
            "imc = : 21.7335354170837\n",
            "Digite o peso (kg): 87\n",
            "Digite a altura (m): 1.67\n",
            "imc = : 31.1950948402596\n",
            "Digite o peso (kg): 105\n",
            "Digite a altura (m): 1.85\n",
            "imc = : 30.67932797662527\n",
            "Digite o peso (kg): 87\n",
            "Digite a altura (m): 1.98\n",
            "imc = : 22.19161310070401\n",
            "Digite o peso (kg): 98\n",
            "Digite a altura (m): 1.98\n",
            "imc = : 24.997449239873482\n",
            "A média das alturas é:  1.8700000000000003\n",
            "A média dos pesos é:  90.6\n",
            "O maior IMC é:  31.1950948402596\n",
            "O menor IMC é:  21.7335354170837\n"
          ]
        }
      ]
    },
    {
      "cell_type": "code",
      "source": [],
      "metadata": {
        "id": "x_aLmC33OdrA"
      },
      "execution_count": null,
      "outputs": []
    },
    {
      "cell_type": "code",
      "source": [],
      "metadata": {
        "id": "FDfW_jaUN9Sd"
      },
      "execution_count": null,
      "outputs": []
    }
  ]
}