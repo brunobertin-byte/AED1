{
  "nbformat": 4,
  "nbformat_minor": 0,
  "metadata": {
    "colab": {
      "provenance": [],
      "authorship_tag": "ABX9TyNJlo5bxhIcgi8bQp2Ykjjh",
      "include_colab_link": true
    },
    "kernelspec": {
      "name": "python3",
      "display_name": "Python 3"
    },
    "language_info": {
      "name": "python"
    }
  },
  "cells": [
    {
      "cell_type": "markdown",
      "metadata": {
        "id": "view-in-github",
        "colab_type": "text"
      },
      "source": [
        "<a href=\"https://colab.research.google.com/github/brunobertin-byte/AED1/blob/main/Aula%206.ipynb\" target=\"_parent\"><img src=\"https://colab.research.google.com/assets/colab-badge.svg\" alt=\"Open In Colab\"/></a>"
      ]
    },
    {
      "cell_type": "code",
      "execution_count": 45,
      "metadata": {
        "colab": {
          "base_uri": "https://localhost:8080/"
        },
        "id": "M1Qvd1qsnuU7",
        "outputId": "63c795b0-f6a7-41ff-d2fe-59c479864f55"
      },
      "outputs": [
        {
          "output_type": "stream",
          "name": "stdout",
          "text": [
            "digite a sua idade: 19\n",
            "você é maior de idade!\n",
            "fim!\n"
          ]
        }
      ],
      "source": [
        "idade = int(input(\"digite a sua idade: \"))\n",
        "if idade >= 18:\n",
        "  print(\"você é maior de idade!\")\n",
        "else:\n",
        "  print(\"Espere mais um pouco!\")\n",
        "print(\"fim!\")"
      ]
    },
    {
      "cell_type": "code",
      "source": [
        "type (idade)\n"
      ],
      "metadata": {
        "id": "1C8kYyewn7mZ"
      },
      "execution_count": null,
      "outputs": []
    },
    {
      "cell_type": "code",
      "source": [],
      "metadata": {
        "id": "EQFHg8_poJ6t"
      },
      "execution_count": null,
      "outputs": []
    },
    {
      "cell_type": "code",
      "source": [
        "nota1 = float(input(\"digite a nota1: \"))\n",
        "nota2 = float(input(\"digite a nota2: \"))\n",
        "media = (nota1 + nota2) / 2\n",
        "print(\"A média foi: \",media)\n",
        "if media >= 6:\n",
        "  print(\"Aprovado!!\")\n",
        "else:\n",
        "  print(\"Reprovado!!\")"
      ],
      "metadata": {
        "id": "lDUTRGzvrhTV"
      },
      "execution_count": null,
      "outputs": []
    },
    {
      "cell_type": "code",
      "source": [
        "numero = int(input(\"Digite um número: \"))\n",
        "if numero >= 0:\n",
        "  print(\"O número é positivo\")\n",
        "print(\"fim!\")"
      ],
      "metadata": {
        "id": "pKpD4EHmu0HH"
      },
      "execution_count": null,
      "outputs": []
    },
    {
      "cell_type": "code",
      "source": [
        "# aqui vamos fazer a entrada de dados\n",
        "numero1 = float(input(\"Digite primeiro número: \"))\n",
        "numero2 = float(input(\"Digite segundo número: \"))\n",
        "# agora vamos fazer a comparação dos números\n",
        "if numero1 > numero2:\n",
        "  print(numero1, \"é maior que\", numero2)\n",
        "else :\n",
        "  print(numero2, \"é maior ou igual a\", numero1)\n",
        "\n"
      ],
      "metadata": {
        "id": "wtehhYtZ0GgT"
      },
      "execution_count": null,
      "outputs": []
    },
    {
      "cell_type": "code",
      "source": [
        "Letra = input(\"Digite uma letra: \")\n",
        "if Letra == \"a\" or Letra == \"e\" or Letra == \"i\" or Letra == \"o\" or Letra == \"u\":\n",
        "  print(\"A letra é uma vogal\")\n",
        "else:\n",
        "  print(\"A letra é uma consoante\")\n"
      ],
      "metadata": {
        "id": "Tj2Ise1k1epA"
      },
      "execution_count": null,
      "outputs": []
    },
    {
      "cell_type": "code",
      "source": [
        "letra = input(\"Digite uma letra: \")\n",
        "if letra == \"a\" or letra == \"A\":\n",
        "  print(\" A letra digitada é uma vogal\")\n",
        "elif letra == \"e\" or letra == \"E\":\n",
        "  print(\" A letra digitada é uma vogal\")\n",
        "elif letra == \"i\" or letra == \"I\":\n",
        "  print(\" A letra digitada é uma vogal\")\n",
        "elif letra == \"o\" or letra == \"O\":\n",
        "  print(\" A letra digitada é uma vogal\")\n",
        "elif letra == \"u\" or letra == \"U\":\n",
        "  print(\" A letra digitada é uma vogal\")\n",
        "else:\n",
        "  print(\"A letra digitada é uma consoante\")"
      ],
      "metadata": {
        "id": "-60wiKZwAG2Y"
      },
      "execution_count": null,
      "outputs": []
    },
    {
      "cell_type": "code",
      "source": [
        "n = int(input(\"Encontre com um número: \"))\n",
        "if (n >= 0):\n",
        "  if (n % 2) == 0:\n",
        "   print(n, \"é par positivo!\")\n",
        "  else:\n",
        "   print(n, \"é impar positivo!\")\n",
        "\n",
        "else:\n",
        "   if(abs(n) % 2) == 0:\n",
        "    print(n, \"é par negativo!\")\n",
        "   else:\n",
        "    print(n, \"é impar negativo!\")\n"
      ],
      "metadata": {
        "id": "j7WRWIuaCqfs"
      },
      "execution_count": null,
      "outputs": []
    },
    {
      "cell_type": "code",
      "source": [
        "idade = int(input(\"Digite a idade do nadador: \"))\n",
        "if idade < 4:\n",
        "    print(\"Idade inválida! Sem categoria.\")\n",
        "elif idade <= 7:\n",
        "    print(\"Categoria: Infantil\")\n",
        "elif idade <= 10:\n",
        "    print(\"Categoria: Juvenil\")\n",
        "elif idade <= 15:\n",
        "    print(\"Categoria: Adolescente\")\n",
        "elif idade <= 30:\n",
        "    print(\"Categoria: Adulto\")\n",
        "elif idade > 30:\n",
        "    print(\"Categoria: Senior\")\n"
      ],
      "metadata": {
        "colab": {
          "base_uri": "https://localhost:8080/"
        },
        "id": "NhtdzLxsId_t",
        "outputId": "8cc41c43-9b95-4fdd-a054-b9d03a3dd45c"
      },
      "execution_count": 54,
      "outputs": [
        {
          "output_type": "stream",
          "name": "stdout",
          "text": [
            "Digite a idade do nadador: 6\n",
            "Categoria: Infantil\n"
          ]
        }
      ]
    }
  ]
}