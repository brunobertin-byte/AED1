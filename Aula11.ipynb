{
 "cells": [
  {
   "cell_type": "code",
   "execution_count": 44,
   "id": "f88cffdc-c8f4-4f52-9e4c-62b7b61afcff",
   "metadata": {},
   "outputs": [
    {
     "name": "stdout",
     "output_type": "stream",
     "text": [
      "============================================================\n",
      "ANÁLISE DE VENDAS - OUTUBRO 2025\n",
      "============================================================\n"
     ]
    }
   ],
   "source": [
    "# Mini-projeto de Análise de Dados - Outubro.\n",
    "print(\"=\" * 60)\n",
    "print(\"ANÁLISE DE VENDAS - OUTUBRO 2025\")\n",
    "print(\"=\" * 60)\n"
   ]
  },
  {
   "cell_type": "code",
   "execution_count": 46,
   "id": "bb1f5c60-f32c-4865-97a6-8e42beb2eb55",
   "metadata": {},
   "outputs": [],
   "source": [
    "vendas_outubro = {\n",
    "    \"04/10/2025\": 2350,\n",
    "    \"05/10/2025\": 1980,\n",
    "    \"06/10/2025\": 2540,\n",
    "    \"07/10/2025\": 2100,\n",
    "    \"08/10/2025\": 3050,\n",
    "    \"11/10/2025\": 2650,\n",
    "    \"12/10/2025\": 2180,\n",
    "    \"13/10/2025\": 2760,\n",
    "    \"14/10/2025\": 2920,\n",
    "    \"15/10/2025\": 3100,\n",
    "    \"18/10/2025\": 2300,\n",
    "    \"19/10/2025\": 2430,\n",
    "    \"20/10/2025\": 2210,\n",
    "    \"21/10/2025\": 2790,\n",
    "    \"22/10/2025\": 2970,\n",
    "    \"25/10/2025\": 3100,\n",
    "    \"26/10/2025\": 2880,\n",
    "    \"27/10/2025\": 2600,\n",
    "    \"28/10/2025\": 2500,\n",
    "    \"29/10/2025\": 3400\n",
    "}"
   ]
  },
  {
   "cell_type": "code",
   "execution_count": 48,
   "id": "6b6cd451-fb14-48a9-983f-eb9fce112b55",
   "metadata": {},
   "outputs": [
    {
     "name": "stdout",
     "output_type": "stream",
     "text": [
      "\n",
      " CALCULANDO TOTAIS...\n",
      "Total de dias com vendas: 20 dias\n"
     ]
    }
   ],
   "source": [
    "#Calcular totais...\n",
    "print(\"\\n CALCULANDO TOTAIS...\")\n",
    "\n",
    "total_mes = sum(vendas_outubro.values())\n",
    "print(f\"Total de dias com vendas: {len(vendas_outubro)} dias\")\n",
    "\n",
    "semana1 = [\"04/10/2025\", \"05/10/2025\", \"06/10/2025\", \"07/10/2025\", \"08/10/2025\"]\n",
    "semana2 = [\"11/10/2025\", \"12/10/2025\", \"13/10/2025\", \"14/10/2025\", \"15/10/2025\"]\n",
    "semana3 = [\"18/10/2025\", \"19/10/2025\", \"20/10/2025\", \"21/10/2025\", \"22/10/2025\"]\n",
    "semana4 = [\"25/10/2025\", \"26/10/2025\", \"27/10/2025\", \"28/10/2025\", \"29/10/2025\"]"
   ]
  },
  {
   "cell_type": "code",
   "execution_count": 63,
   "id": "7a82a245-250f-4f67-bd27-1ac1b671839f",
   "metadata": {},
   "outputs": [],
   "source": [
    "#Calcular o total de cada semana...\n",
    "total_semana1 = sum(vendas_outubro[data] for data in semana1)\n",
    "total_semana2 = sum(vendas_outubro[data] for data in semana2)\n",
    "total_semana3 = sum(vendas_outubro[data] for data in semana3)\n",
    "total_semana4 = sum(vendas_outubro[data] for data in semana4)"
   ]
  },
  {
   "cell_type": "code",
   "execution_count": 65,
   "id": "33c5334b-cc60-4531-bdbb-4a2bca5c9422",
   "metadata": {},
   "outputs": [],
   "source": [
    "media_diaria = total_mes / len(vendas_outubro)\n"
   ]
  },
  {
   "cell_type": "code",
   "execution_count": 69,
   "id": "23c19120-2026-418f-b107-bac422ecf043",
   "metadata": {},
   "outputs": [],
   "source": [
    "Melhor_data = max(vendas_outubro, key=vendas_outubro.get)\n",
    "maior_venda = vendas_outubro[melhor_data]"
   ]
  },
  {
   "cell_type": "code",
   "execution_count": 71,
   "id": "b57f52ec-3aac-4dc2-ab9a-24af342d716d",
   "metadata": {},
   "outputs": [],
   "source": [
    "diferenca_percentual = ((maior_venda - media_diaria) / media_diaria) * 100"
   ]
  },
  {
   "cell_type": "code",
   "execution_count": 73,
   "id": "7cbba3cb-8b20-4a53-b5fc-ce6f2395327d",
   "metadata": {},
   "outputs": [
    {
     "name": "stdout",
     "output_type": "stream",
     "text": [
      "\n",
      "==================================================\n",
      "RELATÓRIO FINAL DE VENDAS\n",
      "==================================================\n",
      "\n",
      " TOTALIZADORES:\n",
      "Total do mês: R$ 52,810.00\n",
      "Média diária: R$ 2,640.50\n",
      "\n",
      " TOTAIS POR SEMANA:\n",
      "Semana 1 (04/10-08/10): R$ 12,020.00\n",
      "Semana 2 (11/10-15/10): R$ 13,610.00\n",
      "Semana 3 (18/10-22/10): R$ 12,700.00\n",
      "Semana 4 (25/10-29/10): R$ 14,480.00\n",
      "\n",
      " DESTAQUES:\n",
      "Melhor dia: 29/10/2025 - R$ 3,400.00\n",
      "Pior dia: 05/10/2025 - R$ 1,980.00\n",
      "\n",
      " ANÁLISE COMPARATIVA:\n",
      "O melhor dia foi 28.8% acima da média diária\n",
      "Diferença entre melhor e pior dia: R$ 1,420.00\n",
      "\n",
      " Média das semanas:\n",
      "R$ 13,202.50\n",
      "\n",
      "==================================================\n",
      "Fim do relatório\n",
      "==================================================\n"
     ]
    }
   ],
   "source": [
    "print(\"\\n\" + \"=\" * 50)\n",
    "print(\"RELATÓRIO FINAL DE VENDAS\")\n",
    "print(\"=\" * 50)\n",
    "\n",
    "print(f\"\\n TOTALIZADORES:\")\n",
    "print(f\"Total do mês: R$ {total_mes:,.2f}\")\n",
    "print(f\"Média diária: R$ {media_diaria:,.2f}\")\n",
    "\n",
    "print(f\"\\n TOTAIS POR SEMANA:\")\n",
    "print(f\"Semana 1 (04/10-08/10): R$ {total_semana1:,.2f}\")\n",
    "print(f\"Semana 2 (11/10-15/10): R$ {total_semana2:,.2f}\")\n",
    "print(f\"Semana 3 (18/10-22/10): R$ {total_semana3:,.2f}\")\n",
    "print(f\"Semana 4 (25/10-29/10): R$ {total_semana4:,.2f}\")\n",
    "\n",
    "print(f\"\\n DESTAQUES:\")\n",
    "print(f\"Melhor dia: {melhor_data} - R$ {maior_venda:,.2f}\")\n",
    "print(f\"Pior dia: {pior_data} - R$ {menor_venda:,.2f}\")\n",
    "\n",
    "print(f\"\\n ANÁLISE COMPARATIVA:\")\n",
    "print(f\"O melhor dia foi {diferenca_percentual:.1f}% acima da média diária\")\n",
    "print(f\"Diferença entre melhor e pior dia: R$ {maior_venda - menor_venda:,.2f}\")\n",
    "\n",
    "print(f\"\\n Média das semanas:\")\n",
    "\n",
    "media_semanas = (total_semana1 + total_semana2 + total_semana3 + total_semana4) / 4\n",
    "print(f\"R$ {media_semanas:,.2f}\")\n",
    "\n",
    "print(\"\\n\" + \"=\" * 50)\n",
    "print(\"Fim do relatório\")\n",
    "print(\"=\" * 50)"
   ]
  },
  {
   "cell_type": "code",
   "execution_count": null,
   "id": "fa4d1eda-e0ff-42a2-bb6e-1f486de41269",
   "metadata": {},
   "outputs": [],
   "source": []
  },
  {
   "cell_type": "code",
   "execution_count": 38,
   "id": "87412009-7938-42d5-ac35-995410e6e034",
   "metadata": {},
   "outputs": [
    {
     "name": "stdout",
     "output_type": "stream",
     "text": [
      "============================================================\n",
      "ANÁLISE DE VENDAS - OUTUBRO 2025\n",
      "============================================================\n",
      "\n",
      " CALCULANDO TOTAIS...\n",
      "Total de dias com vendas: 20 dias\n",
      "\n",
      "==================================================\n",
      "RELATÓRIO FINAL DE VENDAS\n",
      "==================================================\n",
      "\n",
      " TOTALIZADORES:\n",
      "Total do mês: R$ 52,810.00\n",
      "Média diária: R$ 2,640.50\n",
      "\n",
      " TOTAIS POR SEMANA:\n",
      "Semana 1 (04/10-08/10): R$ 12,020.00\n",
      "Semana 2 (11/10-15/10): R$ 13,610.00\n",
      "Semana 3 (18/10-22/10): R$ 12,700.00\n",
      "Semana 4 (25/10-29/10): R$ 14,480.00\n",
      "\n",
      " DESTAQUES:\n",
      "Melhor dia: 29/10/2025 - R$ 3,400.00\n",
      "Pior dia: 05/10/2025 - R$ 1,980.00\n",
      "\n",
      " ANÁLISE COMPARATIVA:\n",
      "O melhor dia foi 28.8% acima da média diária\n",
      "Diferença entre melhor e pior dia: R$ 1,420.00\n",
      "\n",
      " Média das semanas:\n",
      "R$ 13,202.50\n",
      "\n",
      "==================================================\n",
      "Fim do relatório\n",
      "==================================================\n"
     ]
    }
   ],
   "source": [
    "#Mini-projeto de Análise de Dados - Outubro.\n",
    "print(\"=\" * 60)\n",
    "print(\"ANÁLISE DE VENDAS - OUTUBRO 2025\")\n",
    "print(\"=\" * 60)\n",
    "\n",
    "vendas_outubro = {\n",
    "    \"04/10/2025\": 2350,\n",
    "    \"05/10/2025\": 1980,\n",
    "    \"06/10/2025\": 2540,\n",
    "    \"07/10/2025\": 2100,\n",
    "    \"08/10/2025\": 3050,\n",
    "    \"11/10/2025\": 2650,\n",
    "    \"12/10/2025\": 2180,\n",
    "    \"13/10/2025\": 2760,\n",
    "    \"14/10/2025\": 2920,\n",
    "    \"15/10/2025\": 3100,\n",
    "    \"18/10/2025\": 2300,\n",
    "    \"19/10/2025\": 2430,\n",
    "    \"20/10/2025\": 2210,\n",
    "    \"21/10/2025\": 2790,\n",
    "    \"22/10/2025\": 2970,\n",
    "    \"25/10/2025\": 3100,\n",
    "    \"26/10/2025\": 2880,\n",
    "    \"27/10/2025\": 2600,\n",
    "    \"28/10/2025\": 2500,\n",
    "    \"29/10/2025\": 3400\n",
    "}\n",
    "\n",
    "#totais...\n",
    "print(\"\\n CALCULANDO TOTAIS...\")\n",
    "\n",
    "total_mes = sum(vendas_outubro.values())\n",
    "print(f\"Total de dias com vendas: {len(vendas_outubro)} dias\")\n",
    "\n",
    "semana1 = [\"04/10/2025\", \"05/10/2025\", \"06/10/2025\", \"07/10/2025\", \"08/10/2025\"]\n",
    "semana2 = [\"11/10/2025\", \"12/10/2025\", \"13/10/2025\", \"14/10/2025\", \"15/10/2025\"]\n",
    "semana3 = [\"18/10/2025\", \"19/10/2025\", \"20/10/2025\", \"21/10/2025\", \"22/10/2025\"]\n",
    "semana4 = [\"25/10/2025\", \"26/10/2025\", \"27/10/2025\", \"28/10/2025\", \"29/10/2025\"]\n",
    "\n",
    "#Total de cada semana...\n",
    "total_semana1 = sum(vendas_outubro[data] for data in semana1)\n",
    "total_semana2 = sum(vendas_outubro[data] for data in semana2)\n",
    "total_semana3 = sum(vendas_outubro[data] for data in semana3)\n",
    "total_semana4 = sum(vendas_outubro[data] for data in semana4)\n",
    "\n",
    "#Média diária...\n",
    "media_diaria = total_mes / len(vendas_outubro)\n",
    "\n",
    "#Melhor dia de vendas e a data com maior valor de venda...\n",
    "melhor_data = max(vendas_outubro, key=vendas_outubro.get)\n",
    "maior_venda = vendas_outubro[melhor_data]\n",
    "\n",
    "#A Diferença do percentual entre melhor dia e média...\n",
    "diferenca_percentual = ((maior_venda - media_diaria) / media_diaria) * 100\n",
    "\n",
    "#Exibir resultados...\n",
    "print(\"\\n\" + \"=\" * 50)\n",
    "print(\"RELATÓRIO FINAL DE VENDAS\")\n",
    "print(\"=\" * 50)\n",
    "\n",
    "print(f\"\\n TOTALIZADORES:\")\n",
    "print(f\"Total do mês: R$ {total_mes:,.2f}\")\n",
    "print(f\"Média diária: R$ {media_diaria:,.2f}\")\n",
    "\n",
    "print(f\"\\n TOTAIS POR SEMANA:\")\n",
    "print(f\"Semana 1 (04/10-08/10): R$ {total_semana1:,.2f}\")\n",
    "print(f\"Semana 2 (11/10-15/10): R$ {total_semana2:,.2f}\")\n",
    "print(f\"Semana 3 (18/10-22/10): R$ {total_semana3:,.2f}\")\n",
    "print(f\"Semana 4 (25/10-29/10): R$ {total_semana4:,.2f}\")\n",
    "\n",
    "print(f\"\\n DESTAQUES:\")\n",
    "print(f\"Melhor dia: {melhor_data} - R$ {maior_venda:,.2f}\")\n",
    "print(f\"Pior dia: {pior_data} - R$ {menor_venda:,.2f}\")\n",
    "\n",
    "print(f\"\\n ANÁLISE COMPARATIVA:\")\n",
    "print(f\"O melhor dia foi {diferenca_percentual:.1f}% acima da média diária\")\n",
    "print(f\"Diferença entre melhor e pior dia: R$ {maior_venda - menor_venda:,.2f}\")\n",
    "\n",
    "print(f\"\\n Média das semanas:\")\n",
    "\n",
    "media_semanas = (total_semana1 + total_semana2 + total_semana3 + total_semana4) / 4\n",
    "print(f\"R$ {media_semanas:,.2f}\")\n",
    "\n",
    "print(\"\\n\" + \"=\" * 50)\n",
    "print(\"Fim do relatório\")\n",
    "print(\"=\" * 50)\n",
    "\n",
    "\n"
   ]
  }
 ],
 "metadata": {
  "kernelspec": {
   "display_name": "Python [conda env:base] *",
   "language": "python",
   "name": "conda-base-py"
  },
  "language_info": {
   "codemirror_mode": {
    "name": "ipython",
    "version": 3
   },
   "file_extension": ".py",
   "mimetype": "text/x-python",
   "name": "python",
   "nbconvert_exporter": "python",
   "pygments_lexer": "ipython3",
   "version": "3.12.7"
  }
 },
 "nbformat": 4,
 "nbformat_minor": 5
}
