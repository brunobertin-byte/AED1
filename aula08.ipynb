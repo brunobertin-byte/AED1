{
 "cells": [
  {
   "cell_type": "code",
   "execution_count": 1,
   "id": "c66148d3-38d9-4ef3-86cf-5349c12a86c4",
   "metadata": {},
   "outputs": [
    {
     "data": {
      "text/plain": [
       "7"
      ]
     },
     "execution_count": 1,
     "metadata": {},
     "output_type": "execute_result"
    }
   ],
   "source": [
    "from random import randint\n",
    " \n",
    "randint(1, 50)"
   ]
  },
  {
   "cell_type": "code",
   "execution_count": 3,
   "id": "61a14868-502a-4218-98c6-defffa8cfe2b",
   "metadata": {},
   "outputs": [],
   "source": [
    "from random import randint"
   ]
  },
  {
   "cell_type": "code",
   "execution_count": 5,
   "id": "1fb8e585-560a-4831-abdd-1193b01c127e",
   "metadata": {},
   "outputs": [],
   "source": [
    "#Carregar em uma variável o valor aleatório\n",
    "n = randint(1, 50)"
   ]
  },
  {
   "cell_type": "code",
   "execution_count": 7,
   "id": "274d5a94-c6f4-4184-ae18-4e623ea1bbc5",
   "metadata": {},
   "outputs": [
    {
     "name": "stdout",
     "output_type": "stream",
     "text": [
      "43\n"
     ]
    }
   ],
   "source": [
    "#Fim passo 1\n",
    "#Mostrando o número aleatório\n",
    "print(n)"
   ]
  },
  {
   "cell_type": "code",
   "execution_count": 9,
   "id": "eec3055e-4c30-4020-aeb5-7bb2cce2eff8",
   "metadata": {},
   "outputs": [
    {
     "name": "stdin",
     "output_type": "stream",
     "text": [
      "Digite um palpite <entre 1 e 50>:  44\n"
     ]
    }
   ],
   "source": [
    "#Passo 2: pedir um palpite ao usuário (entrada de dados via input).\n",
    " \n",
    "#Solicita um palpite para o usuário\n",
    "p = int(input(\"Digite um palpite <entre 1 e 50>: \"))"
   ]
  },
  {
   "cell_type": "code",
   "execution_count": 11,
   "id": "8b72a2a9-832b-4f8c-85c6-46617d34eef0",
   "metadata": {},
   "outputs": [
    {
     "name": "stdout",
     "output_type": "stream",
     "text": [
      "Não foi dessa vez... o número sorteado era: 43\n"
     ]
    }
   ],
   "source": [
    "#Compara o palpite com o número sorteado(aleatório)\n",
    "if p == n:\n",
    "    print(\"Parabéns! Você acertou\")\n",
    "else:\n",
    "    print(\"Não foi dessa vez... o número sorteado era:\", n)"
   ]
  },
  {
   "cell_type": "code",
   "execution_count": 13,
   "id": "e828009c-b87b-4cd2-aa15-78e3813ebc83",
   "metadata": {},
   "outputs": [
    {
     "name": "stdout",
     "output_type": "stream",
     "text": [
      "Seu palpite foi maior. Tente um número menor!\n"
     ]
    }
   ],
   "source": [
    "#Compara o palpite com o número sorteado(aleatório)\n",
    "if p == n:\n",
    "    print(\"Parabéns! Você acertou\")\n",
    "elif p > n: \n",
    "    print(\"Seu palpite foi maior. Tente um número menor!\")\n",
    "else:\n",
    "    print(\"Seu palpite foi menor. Tente um número maior!\")"
   ]
  },
  {
   "cell_type": "code",
   "execution_count": 15,
   "id": "4ac9fca4-243a-40bc-bd3f-5411d491e532",
   "metadata": {},
   "outputs": [
    {
     "name": "stdin",
     "output_type": "stream",
     "text": [
      "Digite um palpite <entre 1 e 50>:  43\n"
     ]
    },
    {
     "name": "stdout",
     "output_type": "stream",
     "text": [
      "Parabéns! Você acertou\n"
     ]
    }
   ],
   "source": [
    "while True:\n",
    "\n",
    "    #Solicita um palpite para o usuário\n",
    "    p = int(input(\"Digite um palpite <entre 1 e 50>: \"))\n",
    "\n",
    "    #Compara o palpite com o número sorteado(aleatório)\n",
    "    if p == n:\n",
    "        print(\"Parabéns! Você acertou\")\n",
    "        break\n",
    "    elif p > n: \n",
    "        print(\"Seu palpite foi maior. Tente um número menor!\")\n",
    "    else:\n",
    "        print(\"Seu palpite foi menor. Tente um número maior!\")\n"
   ]
  },
  {
   "cell_type": "code",
   "execution_count": 19,
   "id": "2d7f214a-8fe0-4fb6-bbcd-f80435b1341f",
   "metadata": {},
   "outputs": [
    {
     "name": "stdout",
     "output_type": "stream",
     "text": [
      "=== JOGO DE ADIVINHAÇÃO ===\n",
      "Você tem 5 tentativas para acertar!\n",
      "\n",
      "--- Tentativa 1 de 5 ---\n"
     ]
    },
    {
     "name": "stdin",
     "output_type": "stream",
     "text": [
      "Digite um palpite <entre 1 e 50>:  45\n"
     ]
    },
    {
     "name": "stdout",
     "output_type": "stream",
     "text": [
      "Seu palpite foi maior. Tente um número menor!\n",
      "\n",
      "--- Tentativa 2 de 5 ---\n"
     ]
    },
    {
     "name": "stdin",
     "output_type": "stream",
     "text": [
      "Digite um palpite <entre 1 e 50>:  23\n"
     ]
    },
    {
     "name": "stdout",
     "output_type": "stream",
     "text": [
      "Seu palpite foi maior. Tente um número menor!\n",
      "\n",
      "--- Tentativa 3 de 5 ---\n"
     ]
    },
    {
     "name": "stdin",
     "output_type": "stream",
     "text": [
      "Digite um palpite <entre 1 e 50>:  34\n"
     ]
    },
    {
     "name": "stdout",
     "output_type": "stream",
     "text": [
      "Seu palpite foi maior. Tente um número menor!\n",
      "\n",
      "--- Tentativa 4 de 5 ---\n"
     ]
    },
    {
     "name": "stdin",
     "output_type": "stream",
     "text": [
      "Digite um palpite <entre 1 e 50>:  45\n"
     ]
    },
    {
     "name": "stdout",
     "output_type": "stream",
     "text": [
      "Seu palpite foi maior. Tente um número menor!\n",
      "\n",
      "--- Tentativa 5 de 5 ---\n"
     ]
    },
    {
     "name": "stdin",
     "output_type": "stream",
     "text": [
      "Digite um palpite <entre 1 e 50>:  55\n"
     ]
    },
    {
     "name": "stdout",
     "output_type": "stream",
     "text": [
      "Seu palpite foi maior. Tente um número menor!\n"
     ]
    }
   ],
   "source": [
    "import random\n",
    "\n",
    "# Gera o número aleatório\n",
    "n = random.randint(1, 50)\n",
    "\n",
    "# Define o limite máximo de tentativas\n",
    "limite_tentativas = 5\n",
    "tentativas = 0\n",
    "\n",
    "print(\"=== JOGO DE ADIVINHAÇÃO ===\")\n",
    "print(f\"Você tem {limite_tentativas} tentativas para acertar!\")\n",
    "\n",
    "while tentativas < limite_tentativas:\n",
    "    tentativas += 1\n",
    "    print(f\"\\n--- Tentativa {tentativas} de {limite_tentativas} ---\")\n",
    "    \n",
    "    # Solicita um palpite para o usuário\n",
    "    p = int(input(\"Digite um palpite <entre 1 e 50>: \"))\n",
    "\n",
    "    # Compara o palpite com o número sorteado(aleatório)\n",
    "    if p == n:\n",
    "        print(\"Parabéns! Você acertou!\")\n",
    "        break\n",
    "    elif p > n: \n",
    "        print(\"Seu palpite foi maior. Tente um número menor!\")\n",
    "    else:\n",
    "        print(\"Seu palpite foi menor. Tente um número maior!\")"
   ]
  },
  {
   "cell_type": "code",
   "execution_count": 25,
   "id": "32cc8900-6b3c-441f-8c7e-daa59a446919",
   "metadata": {},
   "outputs": [
    {
     "ename": "SyntaxError",
     "evalue": "expected ':' (2516824166.py, line 13)",
     "output_type": "error",
     "traceback": [
      "\u001b[1;36m  Cell \u001b[1;32mIn[25], line 13\u001b[1;36m\u001b[0m\n\u001b[1;33m    else palpite > numero:\u001b[0m\n\u001b[1;37m         ^\u001b[0m\n\u001b[1;31mSyntaxError\u001b[0m\u001b[1;31m:\u001b[0m expected ':'\n"
     ]
    }
   ],
   "source": [
    "tentativas = 0 \n",
    "while true:\n",
    "    if tentativas > 10:\n",
    "        print(\"você chegou no limite de tentativas!\")\n",
    "        break\n",
    "    palpite = int(imput(\"tente adivinhar: \"))\n",
    "    tentativas += 1\n",
    "    if palpite == numero_secreto:\n",
    "        print(\"você acertou!\")\n",
    "        break\n",
    "    elif palpite < numero_secreto:\n",
    "        print(\"É maior!\")\n",
    "    else palpite > numero_secreto:\n",
    "        print(\"É menor!\")"
   ]
  },
  {
   "cell_type": "code",
   "execution_count": 27,
   "id": "56c5b215-fad2-49e0-b1c2-fdf2219ed80c",
   "metadata": {},
   "outputs": [
    {
     "name": "stdout",
     "output_type": "stream",
     "text": [
      "=== JOGO DE ADIVINHAÇÃO ===\n",
      "Você tem 5 tentativas para acertar!\n",
      "\n",
      "--- Tentativa 1 de 5 ---\n"
     ]
    },
    {
     "name": "stdin",
     "output_type": "stream",
     "text": [
      "Digite um palpite <entre 1 e 50>:  3\n"
     ]
    },
    {
     "name": "stdout",
     "output_type": "stream",
     "text": [
      "Seu palpite foi menor. Tente um número maior!\n",
      "\n",
      "--- Tentativa 2 de 5 ---\n"
     ]
    },
    {
     "name": "stdin",
     "output_type": "stream",
     "text": [
      "Digite um palpite <entre 1 e 50>:  5\n"
     ]
    },
    {
     "name": "stdout",
     "output_type": "stream",
     "text": [
      "Seu palpite foi menor. Tente um número maior!\n",
      "\n",
      "--- Tentativa 3 de 5 ---\n"
     ]
    },
    {
     "name": "stdin",
     "output_type": "stream",
     "text": [
      "Digite um palpite <entre 1 e 50>:  44\n"
     ]
    },
    {
     "name": "stdout",
     "output_type": "stream",
     "text": [
      "Seu palpite foi maior. Tente um número menor!\n",
      "\n",
      "--- Tentativa 4 de 5 ---\n"
     ]
    },
    {
     "name": "stdin",
     "output_type": "stream",
     "text": [
      "Digite um palpite <entre 1 e 50>:  43\n"
     ]
    },
    {
     "name": "stdout",
     "output_type": "stream",
     "text": [
      "Seu palpite foi maior. Tente um número menor!\n",
      "\n",
      "--- Tentativa 5 de 5 ---\n"
     ]
    },
    {
     "name": "stdin",
     "output_type": "stream",
     "text": [
      "Digite um palpite <entre 1 e 50>:  7\n"
     ]
    },
    {
     "name": "stdout",
     "output_type": "stream",
     "text": [
      "Seu palpite foi menor. Tente um número maior!\n"
     ]
    }
   ],
   "source": [
    "limite_tentativas = 5\n",
    "tentativas = 0\n",
    "\n",
    "print(\"=== JOGO DE ADIVINHAÇÃO ===\")\n",
    "print(f\"Você tem {limite_tentativas} tentativas para acertar!\")\n",
    "\n",
    "while tentativas < limite_tentativas:\n",
    "    tentativas += 1\n",
    "    print(f\"\\n--- Tentativa {tentativas} de {limite_tentativas} ---\")\n",
    "    \n",
    "    # Solicita um palpite para o usuário\n",
    "    p = int(input(\"Digite um palpite <entre 1 e 50>: \"))\n",
    "\n",
    "    # Compara o palpite com o número sorteado(aleatório)\n",
    "    if p == n:\n",
    "        print(\"Parabéns! Você acertou!\")\n",
    "        break\n",
    "    elif p > n: \n",
    "        print(\"Seu palpite foi maior. Tente um número menor!\")\n",
    "    else:\n",
    "        print(\"Seu palpite foi menor. Tente um número maior!\")"
   ]
  },
  {
   "cell_type": "code",
   "execution_count": 29,
   "id": "c1c4338b-d639-47da-8f9d-9c5bac3e311b",
   "metadata": {},
   "outputs": [
    {
     "name": "stdout",
     "output_type": "stream",
     "text": [
      "=== JOGO DE ADIVINHAÇÃO SIMPLES ===\n",
      "Adivinhe o número entre 1 e 50!\n",
      "Dica: QUENTE = perto, FRIO = longe\n"
     ]
    },
    {
     "name": "stdin",
     "output_type": "stream",
     "text": [
      "\n",
      "Digite um palpite:  4\n"
     ]
    },
    {
     "name": "stdout",
     "output_type": "stream",
     "text": [
      "MORNO! Está na média\n",
      "Tente um número MAIOR\n"
     ]
    },
    {
     "name": "stdin",
     "output_type": "stream",
     "text": [
      "\n",
      "Digite um palpite:  43\n"
     ]
    },
    {
     "name": "stdout",
     "output_type": "stream",
     "text": [
      "FRIO! Está longe\n",
      "Tente um número MENOR\n"
     ]
    },
    {
     "name": "stdin",
     "output_type": "stream",
     "text": [
      "\n",
      "Digite um palpite:  35\n"
     ]
    },
    {
     "name": "stdout",
     "output_type": "stream",
     "text": [
      "FRIO! Está longe\n",
      "Tente um número MENOR\n"
     ]
    },
    {
     "name": "stdin",
     "output_type": "stream",
     "text": [
      "\n",
      "Digite um palpite:  12\n"
     ]
    },
    {
     "name": "stdout",
     "output_type": "stream",
     "text": [
      "MORNO! Está na média\n",
      "Tente um número MAIOR\n"
     ]
    },
    {
     "name": "stdin",
     "output_type": "stream",
     "text": [
      "\n",
      "Digite um palpite:  18\n"
     ]
    },
    {
     "name": "stdout",
     "output_type": "stream",
     "text": [
      "QUENTE! Está muito perto!\n",
      "Tente um número MAIOR\n"
     ]
    },
    {
     "name": "stdin",
     "output_type": "stream",
     "text": [
      "\n",
      "Digite um palpite:  25\n"
     ]
    },
    {
     "name": "stdout",
     "output_type": "stream",
     "text": [
      "MORNO! Está na média\n",
      "Tente um número MENOR\n"
     ]
    },
    {
     "name": "stdin",
     "output_type": "stream",
     "text": [
      "\n",
      "Digite um palpite:  23\n"
     ]
    },
    {
     "name": "stdout",
     "output_type": "stream",
     "text": [
      "QUENTE! Está muito perto!\n",
      "Tente um número MENOR\n"
     ]
    },
    {
     "name": "stdin",
     "output_type": "stream",
     "text": [
      "\n",
      "Digite um palpite:  22\n"
     ]
    },
    {
     "name": "stdout",
     "output_type": "stream",
     "text": [
      "QUENTE! Está muito perto!\n",
      "Tente um número MENOR\n"
     ]
    },
    {
     "name": "stdin",
     "output_type": "stream",
     "text": [
      "\n",
      "Digite um palpite:  21\n"
     ]
    },
    {
     "name": "stdout",
     "output_type": "stream",
     "text": [
      "QUENTE! Está muito perto!\n",
      "Tente um número MENOR\n"
     ]
    },
    {
     "name": "stdin",
     "output_type": "stream",
     "text": [
      "\n",
      "Digite um palpite:  20\n"
     ]
    },
    {
     "name": "stdout",
     "output_type": "stream",
     "text": [
      "QUENTE! Está muito perto!\n",
      "Tente um número MENOR\n"
     ]
    },
    {
     "name": "stdin",
     "output_type": "stream",
     "text": [
      "\n",
      "Digite um palpite:  19\n"
     ]
    },
    {
     "name": "stdout",
     "output_type": "stream",
     "text": [
      " Acertou em 11 tentativas!\n"
     ]
    }
   ],
   "source": [
    "import random\n",
    "\n",
    "n = random.randint(1, 50)\n",
    "tentativas = 0\n",
    "\n",
    "print(\"=== JOGO DE ADIVINHAÇÃO SIMPLES ===\")\n",
    "print(\"Adivinhe o número entre 1 e 50!\")\n",
    "print(\"Dica: QUENTE = perto, FRIO = longe\")\n",
    "\n",
    "while True:\n",
    "    try:\n",
    "        p = int(input(\"\\nDigite um palpite: \"))\n",
    "        \n",
    "        if p < 1 or p > 50:\n",
    "            print(\"Digite entre 1 e 50!\")\n",
    "            continue\n",
    "            \n",
    "        tentativas += 1\n",
    "        \n",
    "        if p == n:\n",
    "            print(f\" Acertou em {tentativas} tentativas!\")\n",
    "            break\n",
    "            \n",
    "        diferenca = abs(p - n)\n",
    "        \n",
    "        # Sistema simples de quente/frio\n",
    "        if diferenca <= 5:\n",
    "            print(\"QUENTE! Está muito perto!\")\n",
    "        elif diferenca <= 15:\n",
    "            print(\"MORNO! Está na média\")\n",
    "        else:\n",
    "            print(\"FRIO! Está longe\")\n",
    "            \n",
    "        if p > n:\n",
    "            print(\"Tente um número MENOR\")\n",
    "        else:\n",
    "            print(\"Tente um número MAIOR\")\n",
    "            \n",
    "    except ValueError:\n",
    "        print(\"Digite um número válido!\")"
   ]
  },
  {
   "cell_type": "code",
   "execution_count": 31,
   "id": "f6cfa787-a17e-465e-a1af-9dda2c461291",
   "metadata": {},
   "outputs": [
    {
     "name": "stdout",
     "output_type": "stream",
     "text": [
      "Adivinhe o número entre 1 e 50!\n",
      "Dica: Vou dizer se está perto ou longe\n"
     ]
    },
    {
     "name": "stdin",
     "output_type": "stream",
     "text": [
      "Tente adivinhar:  20\n"
     ]
    },
    {
     "name": "stdout",
     "output_type": "stream",
     "text": [
      "Está na MÉDIA! É menor!\n"
     ]
    },
    {
     "name": "stdin",
     "output_type": "stream",
     "text": [
      "Tente adivinhar:  25\n"
     ]
    },
    {
     "name": "stdout",
     "output_type": "stream",
     "text": [
      "Está LONGE! É menor!\n"
     ]
    },
    {
     "name": "stdin",
     "output_type": "stream",
     "text": [
      "Tente adivinhar:  15\n"
     ]
    },
    {
     "name": "stdout",
     "output_type": "stream",
     "text": [
      "Está na MÉDIA! É menor!\n"
     ]
    },
    {
     "name": "stdin",
     "output_type": "stream",
     "text": [
      "Tente adivinhar:  3\n"
     ]
    },
    {
     "name": "stdout",
     "output_type": "stream",
     "text": [
      "Está PERTO! É maior!\n"
     ]
    },
    {
     "name": "stdin",
     "output_type": "stream",
     "text": [
      "Tente adivinhar:  7\n"
     ]
    },
    {
     "name": "stdout",
     "output_type": "stream",
     "text": [
      "Está PERTO! É menor!\n",
      "Você chegou no limite de tentativas!\n",
      "O número era 6\n"
     ]
    }
   ],
   "source": [
    "import random\n",
    "\n",
    "numero_secreto = random.randint(1, 50)\n",
    "tentativas = 0\n",
    "\n",
    "print(\"Adivinhe o número entre 1 e 50!\")\n",
    "print(\"Dica: Vou dizer se está perto ou longe\")\n",
    "\n",
    "while True:\n",
    "    if tentativas >= 5:  # Limite de 5 tentativas\n",
    "        print(\"Você chegou no limite de tentativas!\")\n",
    "        print(f\"O número era {numero_secreto}\")\n",
    "        break\n",
    "    \n",
    "    palpite = int(input(\"Tente adivinhar: \"))\n",
    "    tentativas += 1\n",
    "    \n",
    "    if palpite == numero_secreto:\n",
    "        print(\"Você acertou!\")\n",
    "        break\n",
    "    else:\n",
    "        # Calcula quão perto está\n",
    "        diferenca = abs(palpite - numero_secreto)\n",
    "        \n",
    "        # Sistema simples de proximidade\n",
    "        if diferenca <= 5:\n",
    "            print(\"Está PERTO!\", end=\" \")\n",
    "        elif diferenca <= 15:\n",
    "            print(\"Está na MÉDIA!\", end=\" \")\n",
    "        else:\n",
    "            print(\"Está LONGE!\", end=\" \")\n",
    "        \n",
    "        # Dica se é maior ou menor\n",
    "        if palpite < numero_secreto:\n",
    "            print(\"É maior!\")\n",
    "        else:\n",
    "            print(\"É menor!\")"
   ]
  },
  {
   "cell_type": "code",
   "execution_count": 42,
   "id": "9557acc3-c873-4795-95eb-ec77841b535f",
   "metadata": {},
   "outputs": [
    {
     "name": "stdout",
     "output_type": "stream",
     "text": [
      "Adivinhe o número entre 1 e 100!\n"
     ]
    },
    {
     "name": "stdin",
     "output_type": "stream",
     "text": [
      "Tente adivinhar:  50\n"
     ]
    },
    {
     "name": "stdout",
     "output_type": "stream",
     "text": [
      "É maior! (LONGE)\n"
     ]
    },
    {
     "name": "stdin",
     "output_type": "stream",
     "text": [
      "Tente adivinhar:  23\n"
     ]
    },
    {
     "name": "stdout",
     "output_type": "stream",
     "text": [
      "É maior! (LONGE)\n"
     ]
    },
    {
     "name": "stdin",
     "output_type": "stream",
     "text": [
      "Tente adivinhar:  67\n"
     ]
    },
    {
     "name": "stdout",
     "output_type": "stream",
     "text": [
      "É menor! (PERTO)\n"
     ]
    },
    {
     "name": "stdin",
     "output_type": "stream",
     "text": [
      "Tente adivinhar:  68\n"
     ]
    },
    {
     "name": "stdout",
     "output_type": "stream",
     "text": [
      "É menor! (PERTO)\n"
     ]
    },
    {
     "name": "stdin",
     "output_type": "stream",
     "text": [
      "Tente adivinhar:  65\n"
     ]
    },
    {
     "name": "stdout",
     "output_type": "stream",
     "text": [
      "É menor! (PERTO)\n",
      "Fim de jogo! O número era 62\n"
     ]
    }
   ],
   "source": [
    "import random\n",
    "\n",
    "numero_secreto = random.randint(1, 100)\n",
    "tentativas = 0\n",
    "\n",
    "print(\"Adivinhe o número entre 1 e 100!\")\n",
    "\n",
    "while tentativas < 5:  # Máximo de 5 tentativas\n",
    "    palpite = int(input(\"Tente adivinhar: \"))\n",
    "    tentativas += 1\n",
    "    \n",
    "    if palpite == numero_secreto:\n",
    "        print(\"Você acertou!\")\n",
    "        break\n",
    "    \n",
    "    # Sistema básico de proximidade\n",
    "    distancia = abs(palpite - numero_secreto)\n",
    "    \n",
    "    if distancia < 10:\n",
    "        prox = \"PERTO\"\n",
    "    else:\n",
    "        prox = \"LONGE\"\n",
    "    \n",
    "    if palpite < numero_secreto:\n",
    "        print(f\"É maior! ({prox})\")\n",
    "    else:\n",
    "        print(f\"É menor! ({prox})\")\n",
    "else:\n",
    "    print(f\"Fim de jogo! O número era {numero_secreto}\")"
   ]
  },
  {
   "cell_type": "code",
   "execution_count": 44,
   "id": "1cdaca08-c25b-4a66-a34d-07d43077d420",
   "metadata": {},
   "outputs": [
    {
     "name": "stdout",
     "output_type": "stream",
     "text": [
      "=== JOGO DE ADIVINHAÇÃO SIMPLES ===\n",
      "Adivinhe o número entre 1 e 100!\n",
      "Dica: QUENTE = perto, FRIO = longe\n"
     ]
    },
    {
     "name": "stdin",
     "output_type": "stream",
     "text": [
      "\n",
      "Digite um palpite:  2\n"
     ]
    },
    {
     "name": "stdout",
     "output_type": "stream",
     "text": [
      "FRIO! Está longe\n",
      "Tente um número MAIOR\n"
     ]
    },
    {
     "name": "stdin",
     "output_type": "stream",
     "text": [
      "\n",
      "Digite um palpite:  80\n"
     ]
    },
    {
     "name": "stdout",
     "output_type": "stream",
     "text": [
      " Acertou em 2 tentativas!\n"
     ]
    }
   ],
   "source": [
    "import random\n",
    "\n",
    "n = random.randint(1, 100)\n",
    "tentativas = 0\n",
    "\n",
    "print(\"=== JOGO DE ADIVINHAÇÃO SIMPLES ===\")\n",
    "print(\"Adivinhe o número entre 1 e 100!\")\n",
    "print(\"Dica: QUENTE = perto, FRIO = longe\")\n",
    "\n",
    "while True:\n",
    "    try:\n",
    "        p = int(input(\"\\nDigite um palpite: \"))\n",
    "        \n",
    "        if p < 1 or p > 100:\n",
    "            print(\"Digite entre 1 e 50!\")\n",
    "            continue\n",
    "            \n",
    "        tentativas += 1\n",
    "        \n",
    "        if p == n:\n",
    "            print(f\" Acertou em {tentativas} tentativas!\")\n",
    "            break\n",
    "            \n",
    "        diferenca = abs(p - n)\n",
    "        \n",
    "        # Sistema simples de quente/frio\n",
    "        if diferenca <= 5:\n",
    "            print(\"QUENTE! Está muito perto!\")\n",
    "        elif diferenca <= 15:\n",
    "            print(\"MORNO! Está na média\")\n",
    "        else:\n",
    "            print(\"FRIO! Está longe\")\n",
    "            \n",
    "        if p > n:\n",
    "            print(\"Tente um número MENOR\")\n",
    "        else:\n",
    "            print(\"Tente um número MAIOR\")\n",
    "            \n",
    "    except ValueError:\n",
    "        print(\"Digite um número válido!\")"
   ]
  },
  {
   "cell_type": "code",
   "execution_count": null,
   "id": "e109012e-8972-4b84-8da3-41f1e59a60f8",
   "metadata": {},
   "outputs": [],
   "source": []
  }
 ],
 "metadata": {
  "kernelspec": {
   "display_name": "Python [conda env:base] *",
   "language": "python",
   "name": "conda-base-py"
  },
  "language_info": {
   "codemirror_mode": {
    "name": "ipython",
    "version": 3
   },
   "file_extension": ".py",
   "mimetype": "text/x-python",
   "name": "python",
   "nbconvert_exporter": "python",
   "pygments_lexer": "ipython3",
   "version": "3.12.7"
  }
 },
 "nbformat": 4,
 "nbformat_minor": 5
}
